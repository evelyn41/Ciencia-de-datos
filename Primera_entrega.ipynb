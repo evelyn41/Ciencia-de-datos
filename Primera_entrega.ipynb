{
  "nbformat": 4,
  "nbformat_minor": 0,
  "metadata": {
    "colab": {
      "name": "Primera entrega.ipynb",
      "provenance": [],
      "authorship_tag": "ABX9TyOpjq/zQ/ir5DPUApbq5Qci",
      "include_colab_link": true
    },
    "kernelspec": {
      "name": "python3",
      "display_name": "Python 3"
    },
    "language_info": {
      "name": "python"
    }
  },
  "cells": [
    {
      "cell_type": "markdown",
      "metadata": {
        "id": "view-in-github",
        "colab_type": "text"
      },
      "source": [
        "<a href=\"https://colab.research.google.com/github/evelyn41/Ciencia-de-datos/blob/main/Primera_entrega.ipynb\" target=\"_parent\"><img src=\"https://colab.research.google.com/assets/colab-badge.svg\" alt=\"Open In Colab\"/></a>"
      ]
    },
    {
      "cell_type": "markdown",
      "metadata": {
        "id": "Kcp7NCQalKNL"
      },
      "source": [
        "**Modelo de propensión de fuga para la reducción de tasa de retiros en el sector asegurador**\n",
        "\n",
        "**Businnes Understanding**\n",
        "\n",
        "La retención de clientes es trascendental para mantener e incluso optimizar la posición de una compañía en el mercado. Si bien para el crecimiento de un negocio es importante la captación de nuevos clientes, lo es también el conservar los existentes, teniendo en cuenta que en términos de costos generalmente es más complicado adquirir nuevos clientes que retenerlos. En la industria el riesgo de retiro de usuarios se presenta de manera constante, por lo que identificar los posibles factores que conllevan a dicha pérdida se torna en un criterio de bastante relevancia para las decisiones y escenarios que se deban afrontar en cuanto a la sostenibilidad y posicionamiento del negocio en un futuro. Con la presencia de contingencias como lo es la actual pandemia del Covid-19 que genera un cambio en los patrones de consumo y la priorización de gastos, dicha identificación adquiere un peso mucho mayor para la ejecución de medidas preventivas efectivas en la conservación de clientes. \n",
        "\n",
        "En el ámbito asegurador la deserción es un tema que genera bastante preocupación ya que en un país como Colombia que no posee una cultura del seguro esta problemática es más frecuente en comparación con otras industrias. Actualmente más del 50% del mercado colombiano se compone de pólizas de automóviles y SOAT y dichos seguros de autos al ser de índole voluntaria poseen mayor tasa de retiro, por lo que es de interés detener dicha deserción en ramos de este tipo.\n",
        "\n",
        "Para alcanzar este objetivo se optará por la construcción de un modelo de propensión de fuga para la detección de deserción de clientes en la compañía AON Risk Services, especialmente para el área Affinity que tiene a su cargo la comercialización de seguros voluntarios masivos. La construcción e implementación del modelo permitirá la adecuada segmentación de los consumidores con un potencial abandono de la empresa, para así posteriormente establecer estrategias y acciones anticipadas que permitan reducir esta tasa de retiros.\n",
        "\n",
        "Para llevar a cabo el modelo se cuenta con la colaboración del personal de Data & Analytics tanto de Colombia como de Argentina, también con una licencia del software Cloudera que permite tener memoria suficiente de Python u otros lenguajes de programación requeridos, y la herramienta de Businnes Inteligence Power Bi para la presentación de resultados. A partir de todo lo que se desarrolle las estrategias que sean requeridas para implementar serán diseñadas por el equipo comercial de Affinity.\n",
        "\n",
        "Actualmente no se encuentra con una herramienta para medir e identificar los segmentos o perfiles de las personas más propensas a retirarse de una póliza de seguro, por lo que la única opción es recurrrir a la experiencia que se tiene por parte del equipo comercial y a partir de ella diseñar estrategias de retención, sin embargo el problema es que se desarrollan e implementan a toda la población requiriendo mayores gastos en ciertos recursos que si se hiciera a un grupo o segmento específico, por esta razón a pesar de ser la única solución llevada a cabo en la compañía no es la más acertada o viable en términos ecónomicos, prácticos y comerciales. Idealmente para no sufrir pérdidas monetarias considerables la empresa requiere el diseño y desarrollo de la herramienta lo más pronto posible sin embargo no se tiene una fecha límite. Por otra parte en términos del negocio no se tiene una cifra específica de cómo será la reducción en la población retirada, sin embargo se espera que a partir de la primer versión del modelo se vea una mejora significativa.\n",
        "\n",
        "Para el primer prototipo del modelo se contará con los datos de un cliente en específico que brindó información sociodemográfica de las personas retiradas, además de detalles del ítem asegurado y la fecha de retiro. A pesar de que se requiere una limpieza y consolidación en la base de datos se tienen las suficientes variables para realizar una primera versión del modelo. Se debe tener especial cuidado con la información brindada por parte del cliente ya que por temas de confidencialidad y tratamiento de datos personales se debe tener el manejo adecuado de estos para evitar inconvenientes, para este paso probablemente se requiere la anonimización de los registros o la simulación de los mismos. \n",
        "\n",
        "Los datos se encuentran almacenados en formato Excel, específicamente en dos bases, una con toda la información sociodemográfica de los retirados y otra con las características del vehículo que alguna vez estuvo asegurado además de valor asegurado, prima y fechas de retiro. Hasta el momento no se planea adquirir data externa, sin embargo en el largo plazo se planea posiblemente adquirir datos de Fasecolda para que el modelo contenga variables de índole actuarial como lo es la siniestralidad y así se pueda delimitar mejor el camino a tomar en la ejecución de medidas preventivas. Para visualizar los resultados del modelo se planea realizar un dashboard en Power Bi que permita identificar de manera dinámica y entendible el segmento de personas propensas a cancelar su póliza haciendo uso de las ventajas que posee esta herramienta. \n",
        "\n",
        "En términos de riesgos se tiene que en en cuanto al factor tiempo no hay niguno por ahora ya que si bien se desea la herramienta en un futuro cercano no hay una fecha específica en que deba estar necesariamente desarrollado, por otro lado en el ámbito financiero no habrán inconvenientes previstos ya que no hay un presupuesto necesariamente destinado a este proyecto. Además de esto, sí puede existir el riesgo de que el conjunto de datos requiera más información para poder elaborar un modelo adecuado, o que incluso al ser una base que se consolidó y arregló de manera manual por parte del cliente se haya cometido un error que arroje algo que no sea acertado o correcto. Puede pasar también que los resultados no sean lo suficientemente contundentes como para implementar una estrategia de negocio o que impacte de manera significativa como se espera. Para enfrentar estos inconvenientes se espera establecer desde el principio la existencia de estos a la compañía para no generar espectativas mayores, además de buscar toda la colaboración posible por parte de colegas o personas que conozcan del tema y puedan aportar soluciones en cualquier ámbito. En general pueden presentarse diversos riesgos pero se hará todo lo posible por reducirlos.\n",
        "\n",
        "Si se habla específicamente de data mining los objetivos generales son:\n",
        " \n",
        "1.   Elaborar un modelo de propensión de fuga que permita predecir y segmentar el perfil de un cliente con riesgo de retiro por medio de la metodología de regresión de Cox\n",
        "2.   Presentar resultados mediante un dashboard de manera dinámica y concreta al equipo comercial para determinar las medidas preventivas a aplicar dependiendo de lo que se requiera y de la calidad de los resultados\n",
        "\n",
        "Adicionalmente el modelo a realizar puede ser de tipo de predicción o clasificación, de acuerdo a la metodología que se decida emplear se reconocerá finalmente cuál puede ser más acertado. Se espera, si es un modelo de clasificación, que la precisión pueda ser de al menos el 80%. El plan de trabajo detallado para llevar a cabo todo lo que se describió se terminará de concretar pronto, así se tendrán fechas específicas en las cuales se deben realizar ciertos pasos. \n",
        "\n",
        "\n",
        "\n"
      ]
    }
  ]
}