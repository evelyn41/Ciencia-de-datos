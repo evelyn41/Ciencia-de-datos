{
  "nbformat": 4,
  "nbformat_minor": 0,
  "metadata": {
    "colab": {
      "name": "Inventario de datos.ipynb",
      "provenance": [],
      "authorship_tag": "ABX9TyPUlT+K+vgBBoUn32KV4R+7",
      "include_colab_link": true
    },
    "kernelspec": {
      "name": "python3",
      "display_name": "Python 3"
    },
    "language_info": {
      "name": "python"
    }
  },
  "cells": [
    {
      "cell_type": "markdown",
      "metadata": {
        "id": "view-in-github",
        "colab_type": "text"
      },
      "source": [
        "<a href=\"https://colab.research.google.com/github/evelyn41/Ciencia-de-datos/blob/main/Inventario_de_datos.ipynb\" target=\"_parent\"><img src=\"https://colab.research.google.com/assets/colab-badge.svg\" alt=\"Open In Colab\"/></a>"
      ]
    },
    {
      "cell_type": "code",
      "metadata": {
        "colab": {
          "base_uri": "https://localhost:8080/",
          "height": 398
        },
        "id": "ZGquzkCftbqz",
        "outputId": "f5c7aa31-4dbb-451e-b4a3-de455323ac94"
      },
      "source": [
        "import pandas as pd\n",
        "\n",
        "Título = pd.Series(['Data de retiros póliza de autos', \n",
        "                    'Data sociodemográfica de asegurados y retirados'])\n",
        "\n",
        "Descripción = pd.Series(['Consiste en un conjunto de 15 variables que permiten identificar las características del vehículo asegurado, así como la respectiva fecha de retiro del afiliado',\n",
        "                    'Este conjunto de datos se compone de variables sociodemográficas tales como edad, género, estado civil entre otros, tanto de los asegurados como de los retirados'])\n",
        "\n",
        "Propósito = pd.Series(['La data es recolectada con el propósito de tener registrado y contabilizado el número de retiros que se han presentado desde 2018. Tener el histórico de esa información permite identificar como ha sido el comportamiento de esta problemática',\n",
        "                    'El propósito de estos datos es describir la población de afiliados además, en este caso, tiene la función de complementar la data de retiros para conocer finalmente las características de cada persona que se desafilia así como las de su retiro correspondiente'])\n",
        "\n",
        "Data_Creator = pd.Series(['El creador de la data es la asociación que lleva a cabo la recolección de dichos registros, por ahora no se menciona su nombre debido al tratamiento de datos personales',\n",
        "                    'El creador de la data es la asociación que lleva a cabo la recolección de dichos registros, por ahora no se menciona su nombre debido al tratamiento de datos personales'])\n",
        "\n",
        "Location = pd.Series(['La data fue enviada a la compañía corredora de seguros y se encuentra en formato Excel',\n",
        "                    'La data fue enviada a la compañía corredora de seguros y se encuentra en formato Excel'])\n",
        "\n",
        "Data_creacion = pd.Series(['La recolección de la data empezó desde 2018, pero la creación en el formato en que se envió a la compañía es de Febrero de 2021',\n",
        "                    'El conjunto de datos se lleva recolectando desde 2018 para llevar la trazabilidad de las personas que se afilian y las que no siguen activas'])\n",
        "\n",
        "Frecuencia = pd.Series(['La data será actualizada dependiendo de los resultados del modelo o proyecto, probablemente sea trimestral',\n",
        "                    'Estos datos se actualizarán cada 3 meses para conocer las personas que siguen activas y las que no, para así involucrar nuevos registros a la actualización del modelo'])\n",
        "\n",
        "Tipo = pd.Series(['Database',\n",
        "                    'Database'])\n",
        "\n",
        "Formato = pd.Series(['El conjunto de datos se encuentra en formato Excel',\n",
        "                    'El conjunto de datos se encuentra en formato Excel'])\n",
        "\n",
        "Restricciones = pd.Series(['Debido a tratamiento de datos personales probablemente no se tenga pleno acceso para dar a conocer los resultados del proyecto y sea necesario una simulación de los datos',\n",
        "                    'Debido a tratamiento de datos personales probablemente no se tenga pleno acceso para dar a conocer los resultados del proyecto y sea necesario una simulación de los datos'])\n",
        "\n",
        "df = pd.DataFrame({ 'Título': Título, 'Descripción': Descripción, 'Propósito': Propósito, 'Data Creator': Data_Creator, 'Location y Formato': Location, 'Data de creación': Data_creacion, 'Frecuencia de actualización': Frecuencia,\n",
        "                   'Tipo': Tipo, 'Restricciones': Restricciones})\n",
        "\n",
        "df.style"
      ],
      "execution_count": 25,
      "outputs": [
        {
          "output_type": "execute_result",
          "data": {
            "text/html": [
              "<style  type=\"text/css\" >\n",
              "</style><table id=\"T_f2ebc604_ac8a_11eb_9a43_0242ac1c0002\" ><thead>    <tr>        <th class=\"blank level0\" ></th>        <th class=\"col_heading level0 col0\" >Título</th>        <th class=\"col_heading level0 col1\" >Descripción</th>        <th class=\"col_heading level0 col2\" >Propósito</th>        <th class=\"col_heading level0 col3\" >Data Creator</th>        <th class=\"col_heading level0 col4\" >Location y Formato</th>        <th class=\"col_heading level0 col5\" >Data de creación</th>        <th class=\"col_heading level0 col6\" >Frecuencia de actualización</th>        <th class=\"col_heading level0 col7\" >Tipo</th>        <th class=\"col_heading level0 col8\" >Restricciones</th>    </tr></thead><tbody>\n",
              "                <tr>\n",
              "                        <th id=\"T_f2ebc604_ac8a_11eb_9a43_0242ac1c0002level0_row0\" class=\"row_heading level0 row0\" >0</th>\n",
              "                        <td id=\"T_f2ebc604_ac8a_11eb_9a43_0242ac1c0002row0_col0\" class=\"data row0 col0\" >Data de retiros póliza de autos</td>\n",
              "                        <td id=\"T_f2ebc604_ac8a_11eb_9a43_0242ac1c0002row0_col1\" class=\"data row0 col1\" >Consiste en un conjunto de 15 variables que permiten identificar las características del vehículo asegurado, así como la respectiva fecha de retiro del afiliado</td>\n",
              "                        <td id=\"T_f2ebc604_ac8a_11eb_9a43_0242ac1c0002row0_col2\" class=\"data row0 col2\" >La data es recolectada con el propósito de tener registrado y contabilizado el número de retiros que se han presentado desde 2018. Tener el histórico de esa información permite identificar como ha sido el comportamiento de esta problemática</td>\n",
              "                        <td id=\"T_f2ebc604_ac8a_11eb_9a43_0242ac1c0002row0_col3\" class=\"data row0 col3\" >El creador de la data es la asociación que lleva a cabo la recolección de dichos registros, por ahora no se menciona su nombre debido al tratamiento de datos personales</td>\n",
              "                        <td id=\"T_f2ebc604_ac8a_11eb_9a43_0242ac1c0002row0_col4\" class=\"data row0 col4\" >La data fue enviada a la compañía corredora de seguros y se encuentra en formato Excel</td>\n",
              "                        <td id=\"T_f2ebc604_ac8a_11eb_9a43_0242ac1c0002row0_col5\" class=\"data row0 col5\" >La recolección de la data empezó desde 2018, pero la creación en el formato en que se envió a la compañía es de Febrero de 2021</td>\n",
              "                        <td id=\"T_f2ebc604_ac8a_11eb_9a43_0242ac1c0002row0_col6\" class=\"data row0 col6\" >La data será actualizada dependiendo de los resultados del modelo o proyecto, probablemente sea trimestral</td>\n",
              "                        <td id=\"T_f2ebc604_ac8a_11eb_9a43_0242ac1c0002row0_col7\" class=\"data row0 col7\" >Database</td>\n",
              "                        <td id=\"T_f2ebc604_ac8a_11eb_9a43_0242ac1c0002row0_col8\" class=\"data row0 col8\" >Debido a tratamiento de datos personales probablemente no se tenga pleno acceso para dar a conocer los resultados del proyecto y sea necesario una simulación de los datos</td>\n",
              "            </tr>\n",
              "            <tr>\n",
              "                        <th id=\"T_f2ebc604_ac8a_11eb_9a43_0242ac1c0002level0_row1\" class=\"row_heading level0 row1\" >1</th>\n",
              "                        <td id=\"T_f2ebc604_ac8a_11eb_9a43_0242ac1c0002row1_col0\" class=\"data row1 col0\" >Data sociodemográfica de asegurados y retirados</td>\n",
              "                        <td id=\"T_f2ebc604_ac8a_11eb_9a43_0242ac1c0002row1_col1\" class=\"data row1 col1\" >Este conjunto de datos se compone de variables sociodemográficas tales como edad, género, estado civil entre otros, tanto de los asegurados como de los retirados</td>\n",
              "                        <td id=\"T_f2ebc604_ac8a_11eb_9a43_0242ac1c0002row1_col2\" class=\"data row1 col2\" >El propósito de estos datos es describir la población de afiliados además, en este caso, tiene la función de complementar la data de retiros para conocer finalmente las características de cada persona que se desafilia así como las de su retiro correspondiente</td>\n",
              "                        <td id=\"T_f2ebc604_ac8a_11eb_9a43_0242ac1c0002row1_col3\" class=\"data row1 col3\" >El creador de la data es la asociación que lleva a cabo la recolección de dichos registros, por ahora no se menciona su nombre debido al tratamiento de datos personales</td>\n",
              "                        <td id=\"T_f2ebc604_ac8a_11eb_9a43_0242ac1c0002row1_col4\" class=\"data row1 col4\" >La data fue enviada a la compañía corredora de seguros y se encuentra en formato Excel</td>\n",
              "                        <td id=\"T_f2ebc604_ac8a_11eb_9a43_0242ac1c0002row1_col5\" class=\"data row1 col5\" >El conjunto de datos se lleva recolectando desde 2018 para llevar la trazabilidad de las personas que se afilian y las que no siguen activas</td>\n",
              "                        <td id=\"T_f2ebc604_ac8a_11eb_9a43_0242ac1c0002row1_col6\" class=\"data row1 col6\" >Estos datos se actualizarán cada 3 meses para conocer las personas que siguen activas y las que no, para así involucrar nuevos registros a la actualización del modelo</td>\n",
              "                        <td id=\"T_f2ebc604_ac8a_11eb_9a43_0242ac1c0002row1_col7\" class=\"data row1 col7\" >Database</td>\n",
              "                        <td id=\"T_f2ebc604_ac8a_11eb_9a43_0242ac1c0002row1_col8\" class=\"data row1 col8\" >Debido a tratamiento de datos personales probablemente no se tenga pleno acceso para dar a conocer los resultados del proyecto y sea necesario una simulación de los datos</td>\n",
              "            </tr>\n",
              "    </tbody></table>"
            ],
            "text/plain": [
              "<pandas.io.formats.style.Styler at 0x7fd061d89310>"
            ]
          },
          "metadata": {
            "tags": []
          },
          "execution_count": 25
        }
      ]
    }
  ]
}