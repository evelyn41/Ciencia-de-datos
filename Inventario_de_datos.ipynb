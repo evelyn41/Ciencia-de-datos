{
  "nbformat": 4,
  "nbformat_minor": 0,
  "metadata": {
    "colab": {
      "name": "Inventario de datos.ipynb",
      "provenance": [],
      "authorship_tag": "ABX9TyPxDi/PFYFdowZLuhypw1+W",
      "include_colab_link": true
    },
    "kernelspec": {
      "name": "python3",
      "display_name": "Python 3"
    },
    "language_info": {
      "name": "python"
    }
  },
  "cells": [
    {
      "cell_type": "markdown",
      "metadata": {
        "id": "view-in-github",
        "colab_type": "text"
      },
      "source": [
        "<a href=\"https://colab.research.google.com/github/evelyn41/Ciencia-de-datos/blob/main/Inventario_de_datos.ipynb\" target=\"_parent\"><img src=\"https://colab.research.google.com/assets/colab-badge.svg\" alt=\"Open In Colab\"/></a>"
      ]
    },
    {
      "cell_type": "code",
      "metadata": {
        "colab": {
          "base_uri": "https://localhost:8080/",
          "height": 106
        },
        "id": "ZGquzkCftbqz",
        "outputId": "a71eaca8-379c-4fc8-c139-628a34caadd8"
      },
      "source": [
        "import pandas as pd\n",
        "\n",
        "Título = pd.Series(['Data de retiros póliza de autos', 'Data sociodemográfica de asegurados y retirados'])\n",
        "Descripción = pd.Series(['Consiste en un conjunto de 18 variables que permiten identificar las características del vehículo asegurado, así como la respectiva fecha de retiro del afiliado', \n",
        "                         'Este conjunto de datos se compone de variables sociodemográficas tales como edad, género, estado civil entre otros, tanto de los asegurados como de los retirados' \n",
        "                         ])\n",
        "Propósito = pd.Series(['La data es recolectada con el propósito de tener registrado y contabilizado el número de retiros que se han presentado desde 2018', \n",
        "                       'El propósito de estos datos es describir la población de afiliados que se tienen además, en este caso, tiene la función de complementar la data de retiros para conocer finalmente las características de cada persona que se desafilia así como las de su retiro correspondiente' \n",
        "                       ])\n",
        "\n",
        "pd.DataFrame({ 'Título': Título, 'Descripción': Descripción,'Propósito': Propósito })"
      ],
      "execution_count": 1,
      "outputs": [
        {
          "output_type": "execute_result",
          "data": {
            "text/html": [
              "<div>\n",
              "<style scoped>\n",
              "    .dataframe tbody tr th:only-of-type {\n",
              "        vertical-align: middle;\n",
              "    }\n",
              "\n",
              "    .dataframe tbody tr th {\n",
              "        vertical-align: top;\n",
              "    }\n",
              "\n",
              "    .dataframe thead th {\n",
              "        text-align: right;\n",
              "    }\n",
              "</style>\n",
              "<table border=\"1\" class=\"dataframe\">\n",
              "  <thead>\n",
              "    <tr style=\"text-align: right;\">\n",
              "      <th></th>\n",
              "      <th>Título</th>\n",
              "      <th>Descripción</th>\n",
              "      <th>Propósito</th>\n",
              "    </tr>\n",
              "  </thead>\n",
              "  <tbody>\n",
              "    <tr>\n",
              "      <th>0</th>\n",
              "      <td>Data de retiros póliza de autos</td>\n",
              "      <td>Consiste en un conjunto de 18 variables que pe...</td>\n",
              "      <td>La data es recolectada con el propósito de ten...</td>\n",
              "    </tr>\n",
              "    <tr>\n",
              "      <th>1</th>\n",
              "      <td>Data sociodemográfica de asegurados y retirados</td>\n",
              "      <td>Este conjunto de datos se compone de variables...</td>\n",
              "      <td>El propósito de estos datos es describir la po...</td>\n",
              "    </tr>\n",
              "  </tbody>\n",
              "</table>\n",
              "</div>"
            ],
            "text/plain": [
              "                                            Título  ...                                          Propósito\n",
              "0                  Data de retiros póliza de autos  ...  La data es recolectada con el propósito de ten...\n",
              "1  Data sociodemográfica de asegurados y retirados  ...  El propósito de estos datos es describir la po...\n",
              "\n",
              "[2 rows x 3 columns]"
            ]
          },
          "metadata": {
            "tags": []
          },
          "execution_count": 1
        }
      ]
    }
  ]
}