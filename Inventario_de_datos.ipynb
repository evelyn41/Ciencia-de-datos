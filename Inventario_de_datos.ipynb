{
  "nbformat": 4,
  "nbformat_minor": 0,
  "metadata": {
    "colab": {
      "name": "Inventario de datos.ipynb",
      "provenance": [],
      "authorship_tag": "ABX9TyN3Agbpiq9uYRnTVJTUklif",
      "include_colab_link": true
    },
    "kernelspec": {
      "name": "python3",
      "display_name": "Python 3"
    },
    "language_info": {
      "name": "python"
    }
  },
  "cells": [
    {
      "cell_type": "markdown",
      "metadata": {
        "id": "view-in-github",
        "colab_type": "text"
      },
      "source": [
        "<a href=\"https://colab.research.google.com/github/evelyn41/Ciencia-de-datos/blob/main/Inventario_de_datos.ipynb\" target=\"_parent\"><img src=\"https://colab.research.google.com/assets/colab-badge.svg\" alt=\"Open In Colab\"/></a>"
      ]
    },
    {
      "cell_type": "code",
      "metadata": {
        "colab": {
          "base_uri": "https://localhost:8080/",
          "height": 426
        },
        "id": "ZGquzkCftbqz",
        "outputId": "50f896ce-becb-474d-c969-7f4979119547"
      },
      "source": [
        "import pandas as pd\n",
        "\n",
        "Título = pd.Series(['Data de retiros póliza de autos', \n",
        "                    'Data sociodemográfica de asegurados y retirados'])\n",
        "\n",
        "Descripción = pd.Series(['Consiste en un conjunto de 18 variables que permiten identificar las características del vehículo asegurado, así como la respectiva fecha de retiro del afiliado',\n",
        "                    'Este conjunto de datos se compone de variables sociodemográficas tales como edad, género, estado civil entre otros, tanto de los asegurados como de los retirados'])\n",
        "\n",
        "Propósito = pd.Series(['La data es recolectada con el propósito de tener registrado y contabilizado el número de retiros que se han presentado desde 2018',\n",
        "                    'El propósito de estos datos es describir la población de afiliados que se tienen además, en este caso, tiene la función de complementar la data de retiros para conocer finalmente las características de cada persona que se desafilia así como las de su retiro correspondiente'])\n",
        "\n",
        "Data_Creator = pd.Series(['El creador de la data es el cliente que lleva a cabo la recolección de dichos registros, por ahora no se menciona debido al tratamiento de datos personales',\n",
        "                    'El creador de la data es el cliente que lleva a cabo la recolección de dichos registros, por ahora no se menciona debido al tratamiento de datos personales'])\n",
        "\n",
        "Location = pd.Series(['La data fue enviada a la compañía asegurada y se encuentra en formato Excel',\n",
        "                    'La data fue enviada a la compañía asegurada y se encuentra en formato Excel'])\n",
        "\n",
        "Data_creacion = pd.Series(['La recolección de la data empezó desde 2018, pero la creación en el formato en que se envió a la compañía es de Febrero de 2021',\n",
        "                    'El conjunto de datos se lleva recolectando desde 2018 para llevar la trazabilidad de las personas que se afilian y las que no siguen activas'])\n",
        "\n",
        "Frecuencia = pd.Series(['La data será actualizada dependiendo de los resultados del modelo',\n",
        "                    'Estos datos se actualizarán cada 3 meses para conocer las personas que siguen activas y las que no, para así involucrar nuevos registros a la actualización del modelo'])\n",
        "\n",
        "Formato = pd.Series(['El conjunto de datos se encuentra en formato Excel',\n",
        "                    'El conjunto de datos se encuentra en formato Excel'])\n",
        "\n",
        "Restricciones = pd.Series(['Debido a restricciones y tratamiento de datos personales probablemente no se tenga pleno acceso para dar a conocer los resultados del proyecto',\n",
        "                    'Debido a restricciones y tratamiento de datos personales probablemente no se tenga pleno acceso para dar a conocer los resultados del proyecto'])\n",
        "\n",
        "df = pd.DataFrame({ 'Título': Título, 'Descripción': Descripción, 'Propósito': Propósito, 'Data Creator': Data_Creator, 'Location': Location, 'Data de creación': Data_creacion, 'Frecuencia de actualización': Frecuencia,\n",
        "                   'Formato': Formato, 'Restricciones': Restricciones})\n",
        "\n",
        "df"
      ],
      "execution_count": 28,
      "outputs": [
        {
          "output_type": "execute_result",
          "data": {
            "text/html": [
              "<div>\n",
              "<style scoped>\n",
              "    .dataframe tbody tr th:only-of-type {\n",
              "        vertical-align: middle;\n",
              "    }\n",
              "\n",
              "    .dataframe tbody tr th {\n",
              "        vertical-align: top;\n",
              "    }\n",
              "\n",
              "    .dataframe thead th {\n",
              "        text-align: right;\n",
              "    }\n",
              "</style>\n",
              "<table border=\"1\" class=\"dataframe\">\n",
              "  <thead>\n",
              "    <tr style=\"text-align: right;\">\n",
              "      <th></th>\n",
              "      <th>Título</th>\n",
              "      <th>Descripción</th>\n",
              "      <th>Propósito</th>\n",
              "      <th>Data Creator</th>\n",
              "      <th>Location</th>\n",
              "      <th>Data de creación</th>\n",
              "      <th>Frecuencia de actualización</th>\n",
              "      <th>Formato</th>\n",
              "      <th>Restricciones</th>\n",
              "    </tr>\n",
              "  </thead>\n",
              "  <tbody>\n",
              "    <tr>\n",
              "      <th>0</th>\n",
              "      <td>Data de retiros póliza de autos</td>\n",
              "      <td>Consiste en un conjunto de 18 variables que permiten identificar las características del vehículo asegurado, así como la respectiva fecha de retiro del afiliado</td>\n",
              "      <td>La data es recolectada con el propósito de tener registrado y contabilizado el número de retiros que se han presentado desde 2018</td>\n",
              "      <td>El creador de la data es el cliente que lleva a cabo la recolección de dichos registros, por ahora no se menciona debido al tratamiento de datos personales</td>\n",
              "      <td>La data fue enviada a la compañía asegurada y se encuentra en formato Excel</td>\n",
              "      <td>La recolección de la data empezó desde 2018, pero la creación en el formato en que se envió a la compañía es de Febrero de 2021</td>\n",
              "      <td>La data será actualizada dependiendo de los resultados del modelo</td>\n",
              "      <td>El conjunto de datos se encuentra en formato Excel</td>\n",
              "      <td>Debido a restricciones y tratamiento de datos personales probablemente no se tenga pleno acceso para dar a conocer los resultados del proyecto</td>\n",
              "    </tr>\n",
              "    <tr>\n",
              "      <th>1</th>\n",
              "      <td>Data sociodemográfica de asegurados y retirados</td>\n",
              "      <td>Este conjunto de datos se compone de variables sociodemográficas tales como edad, género, estado civil entre otros, tanto de los asegurados como de los retirados</td>\n",
              "      <td>El propósito de estos datos es describir la población de afiliados que se tienen además, en este caso, tiene la función de complementar la data de retiros para conocer finalmente las características de cada persona que se desafilia así como las de su retiro correspondiente</td>\n",
              "      <td>El creador de la data es el cliente que lleva a cabo la recolección de dichos registros, por ahora no se menciona debido al tratamiento de datos personales</td>\n",
              "      <td>La data fue enviada a la compañía asegurada y se encuentra en formato Excel</td>\n",
              "      <td>El conjunto de datos se lleva recolectando desde 2018 para llevar la trazabilidad de las personas que se afilian y las que no siguen activas</td>\n",
              "      <td>Estos datos se actualizarán cada 3 meses para conocer las personas que siguen activas y las que no, para así involucrar nuevos registros a la actualización del modelo</td>\n",
              "      <td>El conjunto de datos se encuentra en formato Excel</td>\n",
              "      <td>Debido a restricciones y tratamiento de datos personales probablemente no se tenga pleno acceso para dar a conocer los resultados del proyecto</td>\n",
              "    </tr>\n",
              "  </tbody>\n",
              "</table>\n",
              "</div>"
            ],
            "text/plain": [
              "                                            Título  ...                                                                                                                                   Restricciones\n",
              "0                  Data de retiros póliza de autos  ...  Debido a restricciones y tratamiento de datos personales probablemente no se tenga pleno acceso para dar a conocer los resultados del proyecto\n",
              "1  Data sociodemográfica de asegurados y retirados  ...  Debido a restricciones y tratamiento de datos personales probablemente no se tenga pleno acceso para dar a conocer los resultados del proyecto\n",
              "\n",
              "[2 rows x 9 columns]"
            ]
          },
          "metadata": {
            "tags": []
          },
          "execution_count": 28
        }
      ]
    }
  ]
}